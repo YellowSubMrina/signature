{
 "cells": [
  {
   "cell_type": "markdown",
   "id": "e4cebcf0-4eb6-4cae-aaec-269c25ef8f06",
   "metadata": {},
   "source": [
    "В этом файле собирается и обучается модель "
   ]
  },
  {
   "cell_type": "code",
   "execution_count": null,
   "id": "7c2e0bc5-d092-4a3e-b648-426a14dcef69",
   "metadata": {},
   "outputs": [],
   "source": [
    "import os\n",
    "import numpy as np\n",
    "from PIL import Image\n",
    "from sklearn.model_selection import train_test_splitВ\n",
    "from sklearn.svm import SVC\n",
    "from sklearn.metrics import classification_report, confusion_matrix, accuracy_score"
   ]
  },
  {
   "cell_type": "code",
   "execution_count": null,
   "id": "ab0cef74-0f74-4ba6-8246-3bdf28732e35",
   "metadata": {},
   "outputs": [],
   "source": [
    "import joblib\n",
    "import os\n",
    "\n",
    "# Путь к папке с сохранёнными файлами\n",
    "load_dir = 'PythonProjectMarina'\n",
    "\n",
    "# Загрузка переменных\n",
    "X_train_base = joblib.load(os.path.join(load_dir, 'X_train_base.pkl'))\n",
    "X_val_base = joblib.load(os.path.join(load_dir, 'X_val_base.pkl'))\n",
    "X_train_comparison = joblib.load(os.path.join(load_dir, 'X_train_comparison.pkl'))\n",
    "X_val_comparison = joblib.load(os.path.join(load_dir, 'X_val_comparison.pkl'))\n",
    "y_train = joblib.load(os.path.join(load_dir, 'y_train.pkl'))\n",
    "y_val = joblib.load(os.path.join(load_dir, 'y_val.pkl'))\n"
   ]
  },
  {
   "cell_type": "code",
   "execution_count": null,
   "id": "e04fcb24-1743-49fa-9b06-b7bd6a39135c",
   "metadata": {},
   "outputs": [],
   "source": [
    "from tensorflow.keras import layers, models, optimizers, Model\n",
    "\n",
    "input_shape = (220, 155, 1)  \n",
    "\n",
    "x1 = layers.Input(shape=input_shape)\n",
    "x2 = layers.Input(shape=input_shape)\n",
    "\n",
    "def build_feature_extractor(input_shape):\n",
    "    inputs = layers.Input(shape=input_shape)\n",
    "    x = layers.Conv2D(32, 3, activation='relu')(inputs)\n",
    "    x = layers.MaxPooling2D(2)(x)\n",
    "    x = layers.Conv2D(64, 3, activation='relu')(x)\n",
    "    x = layers.MaxPooling2D(2)(x)\n",
    "    x = layers.Conv2D(128, 3, activation='relu')(x)\n",
    "    x = layers.MaxPooling2D(2)(x)\n",
    "    x = layers.GlobalAveragePooling2D()(x)\n",
    "    x = layers.Dense(128, activation='relu')(x)\n",
    "    return Model(inputs=inputs, outputs=x)\n",
    "\n",
    "feature_model = build_feature_extractor(input_shape)\n",
    "\n",
    "x1_feat = feature_model(x1)\n",
    "x2_feat = feature_model(x2)\n",
    "\n",
    "net = layers.Subtract()([x1_feat, x2_feat])\n",
    "net = layers.Dense(64, activation='relu')(net)\n",
    "net = layers.Dense(1, activation='sigmoid')(net)\n",
    "\n",
    "classifier = Model(inputs=[x1, x2], outputs=net)\n",
    "classifier.compile(\n",
    "    loss='binary_crossentropy',\n",
    "    optimizer=optimizers.RMSprop(learning_rate=1e-4),\n",
    "    metrics=['accuracy']\n",
    ")\n"
   ]
  },
  {
   "cell_type": "code",
   "execution_count": null,
   "id": "1319911c-b36d-4bc2-9d68-278e26e54061",
   "metadata": {},
   "outputs": [],
   "source": [
    "history = classifier.fit(\n",
    "    [X_train_base, X_train_comparison], y_train, \n",
    "    epochs=5,\n",
    "    batch_size=32,\n",
    "    validation_data=([X_val_base, X_val_comparison], y_val)\n",
    ")"
   ]
  },
  {
   "cell_type": "code",
   "execution_count": null,
   "id": "c4bc3c8a-28b8-4ba0-b3fc-656fda748eb2",
   "metadata": {},
   "outputs": [],
   "source": [
    "import matplotlib.pyplot as plt\n",
    "\n",
    "train_loss = history.history['loss']\n",
    "val_loss = history.history['val_loss']\n",
    "train_accuracy = history.history['accuracy']\n",
    "val_accuracy = history.history['val_accuracy']\n",
    "\n",
    "plt.figure(figsize=(12, 6))\n",
    "\n",
    "plt.subplot(1, 2, 1)\n",
    "plt.plot(train_loss, label='Training Loss')\n",
    "plt.plot(val_loss, label='Validation Loss')\n",
    "plt.title('Loss per Epoch')\n",
    "plt.xlabel('Epochs')\n",
    "plt.ylabel('Loss')\n",
    "plt.legend()\n",
    "\n",
    "plt.subplot(1, 2, 2)\n",
    "plt.plot(train_accuracy, label='Training Accuracy')\n",
    "plt.plot(val_accuracy, label='Validation Accuracy')\n",
    "plt.title('Accuracy per Epoch')\n",
    "plt.xlabel('Epochs')\n",
    "plt.ylabel('Accuracy')\n",
    "plt.legend()\n",
    "\n",
    "plt.tight_layout()\n",
    "plt.show()\n"
   ]
  },
  {
   "cell_type": "code",
   "execution_count": null,
   "id": "01cd9c33-1d88-4c74-a2f5-98664e9d2b83",
   "metadata": {},
   "outputs": [],
   "source": [
    "classifier.save('my_model.keras')"
   ]
  }
 ],
 "metadata": {
  "kernelspec": {
   "display_name": "Python 3 (ipykernel)",
   "language": "python",
   "name": "python3"
  },
  "language_info": {
   "codemirror_mode": {
    "name": "ipython",
    "version": 3
   },
   "file_extension": ".py",
   "mimetype": "text/x-python",
   "name": "python",
   "nbconvert_exporter": "python",
   "pygments_lexer": "ipython3",
   "version": "3.12.3"
  }
 },
 "nbformat": 4,
 "nbformat_minor": 5
}
